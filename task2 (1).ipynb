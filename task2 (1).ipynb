{
 "cells": [
  {
   "cell_type": "code",
   "execution_count": 7,
   "id": "59a98452-2bf0-47e9-bb1e-e0153b79127b",
   "metadata": {},
   "outputs": [
    {
     "name": "stdout",
     "output_type": "stream",
     "text": [
      "Corrected word: spelling\n",
      "Corrected word: dictionary\n",
      "Corrected word: rough\n",
      "Corrected word: over\n",
      "Corrected word: fire\n",
      "Corrected word: principal\n",
      "Corrected word: peach\n"
     ]
    }
   ],
   "source": [
    "import difflib\n",
    "\n",
    "# Sample list of words for demonstration purposes\n",
    "word_list = ['spelling', 'dictionary', 'rough', 'over', 'fire', 'principal', 'peach']\n",
    "\n",
    "def correct_or_nearest_word(input_word, word_list):\n",
    "    corrected_word = difflib.get_close_matches(input_word, word_list, n=1, cutoff=0.6)\n",
    "    if corrected_word:\n",
    "        return corrected_word[0]\n",
    "    else:\n",
    "        return \"No matching word found\"\n",
    "\n",
    "# Example usage:\n",
    "input_word = 'speling'  # Replace this with the word you want to correct\n",
    "corrected_word = correct_or_nearest_word(input_word, word_list)\n",
    "print(\"Corrected word:\", corrected_word)\n",
    "input_word = 'decteonary'  # Replace this with the word you want to correct\n",
    "corrected_word = correct_or_nearest_word(input_word, word_list)\n",
    "print(\"Corrected word:\", corrected_word)\n",
    "input_word = 'raufh'  # Replace this with the word you want to correct\n",
    "corrected_word = correct_or_nearest_word(input_word, word_list)\n",
    "print(\"Corrected word:\", corrected_word)\n",
    "input_word = 'overr'  # Replace this with the word you want to correct\n",
    "corrected_word = correct_or_nearest_word(input_word, word_list)\n",
    "print(\"Corrected word:\", corrected_word)\n",
    "input_word = 'fiare'  # Replace this with the word you want to correct\n",
    "corrected_word = correct_or_nearest_word(input_word, word_list)\n",
    "print(\"Corrected word:\", corrected_word)\n",
    "input_word = 'prencipel'  # Replace this with the word you want to correct\n",
    "corrected_word = correct_or_nearest_word(input_word, word_list)\n",
    "print(\"Corrected word:\", corrected_word)\n",
    "input_word = 'peech'  # Replace this with the word you want to correct\n",
    "corrected_word = correct_or_nearest_word(input_word, word_list)\n",
    "print(\"Corrected word:\", corrected_word)\n"
   ]
  },
  {
   "cell_type": "code",
   "execution_count": null,
   "id": "26597380-fafb-469d-b06a-a5a24c7fbaf9",
   "metadata": {},
   "outputs": [],
   "source": []
  }
 ],
 "metadata": {
  "kernelspec": {
   "display_name": "Python 3 (ipykernel)",
   "language": "python",
   "name": "python3"
  },
  "language_info": {
   "codemirror_mode": {
    "name": "ipython",
    "version": 3
   },
   "file_extension": ".py",
   "mimetype": "text/x-python",
   "name": "python",
   "nbconvert_exporter": "python",
   "pygments_lexer": "ipython3",
   "version": "3.11.3"
  }
 },
 "nbformat": 4,
 "nbformat_minor": 5
}
